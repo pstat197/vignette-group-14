{
 "cells": [
  {
   "cell_type": "markdown",
   "id": "619ef929",
   "metadata": {},
   "source": [
    "Using Allison Parrish's Project Gutenberg Poetry Corpus in order to generate Poetry\n",
    "\n",
    "    The first step is to download the corpus using the following code:"
   ]
  },
  {
   "cell_type": "code",
   "execution_count": 1,
   "id": "9fd5f121",
   "metadata": {},
   "outputs": [
    {
     "name": "stderr",
     "output_type": "stream",
     "text": [
      "  % Total    % Received % Xferd  Average Speed   Time    Time     Time  Current\n",
      "                                 Dload  Upload   Total   Spent    Left  Speed\n",
      "\n",
      "  0     0    0     0    0     0      0      0 --:--:-- --:--:-- --:--:--     0\n",
      "  0 52.2M    0 13606    0     0  18294      0  0:49:57 --:--:--  0:49:57 18312\n",
      "  0 52.2M    0  214k    0     0   119k      0  0:07:29  0:00:01  0:07:28  119k\n",
      "  1 52.2M    1  600k    0     0   212k      0  0:04:11  0:00:02  0:04:09  212k\n",
      "  1 52.2M    1  864k    0     0   225k      0  0:03:57  0:00:03  0:03:54  225k\n",
      "  2 52.2M    2 1354k    0     0   282k      0  0:03:09  0:00:04  0:03:05  282k\n",
      "  3 52.2M    3 1717k    0     0   296k      0  0:03:00  0:00:05  0:02:55  338k\n",
      "  3 52.2M    3 1986k    0     0   300k      0  0:02:58  0:00:06  0:02:52  369k\n",
      "  4 52.2M    4 2440k    0     0   313k      0  0:02:50  0:00:07  0:02:43  370k\n",
      "  5 52.2M    5 3000k    0     0   348k      0  0:02:33  0:00:08  0:02:25  446k\n",
      "  5 52.2M    5 3170k    0     0   322k      0  0:02:46  0:00:09  0:02:37  360k\n",
      "  6 52.2M    6 3501k    0     0   330k      0  0:02:42  0:00:10  0:02:32  370k\n",
      "  7 52.2M    7 4169k    0     0   354k      0  0:02:31  0:00:11  0:02:20  422k\n",
      "  8 52.2M    8 4668k    0     0   366k      0  0:02:26  0:00:12  0:02:14  448k\n",
      "  9 52.2M    9 4899k    0     0   356k      0  0:02:30  0:00:13  0:02:17  370k\n",
      "  9 52.2M    9 5194k    0     0   354k      0  0:02:31  0:00:14  0:02:17  419k\n",
      " 10 52.2M   10 5744k    0     0   365k      0  0:02:26  0:00:15  0:02:11  440k\n",
      " 11 52.2M   11 6315k    0     0   378k      0  0:02:21  0:00:16  0:02:05  434k\n",
      " 13 52.2M   13 7050k    0     0   397k      0  0:02:14  0:00:17  0:01:57  476k\n",
      " 14 52.2M   14 7967k    0     0   426k      0  0:02:05  0:00:18  0:01:47  621k\n",
      " 16 52.2M   16 8969k    0     0   451k      0  0:01:58  0:00:19  0:01:39  727k\n",
      " 18 52.2M   18 9888k    0     0   478k      0  0:01:51  0:00:20  0:01:31  835k\n",
      " 20 52.2M   20 10.6M    0     0   502k      0  0:01:46  0:00:21  0:01:25  922k\n",
      " 22 52.2M   22 11.7M    0     0   532k      0  0:01:40  0:00:22  0:01:18 1023k\n",
      " 25 52.2M   25 13.2M    0     0   573k      0  0:01:33  0:00:23  0:01:10 1127k\n",
      " 28 52.2M   28 14.8M    0     0   618k      0  0:01:26  0:00:24  0:01:02 1311k\n",
      " 29 52.2M   29 15.6M    0     0   625k      0  0:01:25  0:00:25  0:01:00 1238k\n",
      " 32 52.2M   32 16.8M    0     0   649k      0  0:01:22  0:00:26  0:00:56 1288k\n",
      " 35 52.2M   35 18.4M    0     0   683k      0  0:01:18  0:00:27  0:00:51 1356k\n",
      " 37 52.2M   37 19.7M    0     0   703k      0  0:01:16  0:00:28  0:00:48 1309k\n",
      " 39 52.2M   39 20.7M    0     0   717k      0  0:01:14  0:00:29  0:00:45 1199k\n",
      " 42 52.2M   42 22.0M    0     0   731k      0  0:01:13  0:00:30  0:00:43 1248k\n",
      " 44 52.2M   44 23.4M    0     0   758k      0  0:01:10  0:00:31  0:00:39 1338k\n",
      " 47 52.2M   47 24.8M    0     0   780k      0  0:01:08  0:00:32  0:00:36 1325k\n",
      " 50 52.2M   50 26.2M    0     0   798k      0  0:01:07  0:00:33  0:00:34 1344k\n",
      " 53 52.2M   53 27.7M    0     0   821k      0  0:01:05  0:00:34  0:00:31 1446k\n",
      " 56 52.2M   56 29.6M    0     0   852k      0  0:01:02  0:00:35  0:00:27 1629k\n",
      " 58 52.2M   58 30.7M    0     0   860k      0  0:01:02  0:00:36  0:00:26 1501k\n",
      " 62 52.2M   62 32.7M    0     0   891k      0  0:01:00  0:00:37  0:00:23 1615k\n",
      " 66 52.2M   66 34.7M    0     0   920k      0  0:00:58  0:00:38  0:00:20 1757k\n",
      " 70 52.2M   70 36.9M    0     0   954k      0  0:00:56  0:00:39  0:00:17 1871k\n",
      " 75 52.2M   75 39.4M    0     0   993k      0  0:00:53  0:00:40  0:00:13 1995k\n",
      " 78 52.2M   78 40.8M    0     0  1005k      0  0:00:53  0:00:41  0:00:12 2067k\n",
      " 79 52.2M   79 41.5M    0     0   997k      0  0:00:53  0:00:42  0:00:11 1778k\n",
      " 82 52.2M   82 43.1M    0     0  1013k      0  0:00:52  0:00:43  0:00:09 1730k\n",
      " 85 52.2M   85 44.6M    0     0  1021k      0  0:00:52  0:00:44  0:00:08 1532k\n",
      " 88 52.2M   88 46.3M    0     0  1041k      0  0:00:51  0:00:45  0:00:06 1439k\n",
      " 91 52.2M   91 47.9M    0     0  1053k      0  0:00:50  0:00:46  0:00:04 1458k\n",
      " 93 52.2M   93 49.0M    0     0  1054k      0  0:00:50  0:00:47  0:00:03 1556k\n",
      " 97 52.2M   97 50.9M    0     0  1072k      0  0:00:49  0:00:48  0:00:01 1586k\n",
      "100 52.2M  100 52.2M    0     0  1082k      0  0:00:49  0:00:49 --:--:-- 1675k\n"
     ]
    }
   ],
   "source": [
    "!curl -O http://static.decontextualize.com/gutenberg-poetry-v001.ndjson.gz"
   ]
  },
  {
   "cell_type": "markdown",
   "id": "06b285a4",
   "metadata": {},
   "source": [
    "This file contains three million lines of poetry stored in a gzipped newline deliminated JSON format with a JSON object on each line. \n",
    "The followng code uses Python's gzip library to open the file and store each line of poetry as JSON objects as a list called poetry_lines."
   ]
  },
  {
   "cell_type": "code",
   "execution_count": 2,
   "id": "1e3aafe2",
   "metadata": {},
   "outputs": [],
   "source": [
    "import gzip, json\n",
    "poetry_lines = []\n",
    "for line in gzip.open(\"gutenberg-poetry-v001.ndjson.gz\"):\n",
    "    poetry_lines.append(json.loads(line.strip()))"
   ]
  },
  {
   "cell_type": "markdown",
   "id": "fc46cca3",
   "metadata": {},
   "source": [
    "We can look at a random sample of petry lines:"
   ]
  },
  {
   "cell_type": "code",
   "execution_count": 3,
   "id": "7d77937e",
   "metadata": {},
   "outputs": [],
   "source": [
    "import random"
   ]
  },
  {
   "cell_type": "code",
   "execution_count": 4,
   "id": "f84bab90",
   "metadata": {},
   "outputs": [
    {
     "data": {
      "text/plain": [
       "[{'s': 'straight and swift across the sea through all its course, to',\n",
       "  'gid': '1997'},\n",
       " {'s': 'Of mortal members, subject to decay,', 'gid': '228'},\n",
       " {'s': 'affection awaits the sun, fixedly looking till the dawn may',\n",
       "  'gid': '1997'},\n",
       " {'s': 'What from this day I shall be,', 'gid': '1304'},\n",
       " {'s': 'When he heard the owls at midnight,', 'gid': '1365'},\n",
       " {'s': 'Over the ringing battle of dauntless men,', 'gid': '658'},\n",
       " {'s': 'Now am I come where many a plaining voice', 'gid': '1005'},\n",
       " {'s': 'His right hand will shield thee then.', 'gid': '1365'}]"
      ]
     },
     "execution_count": 4,
     "metadata": {},
     "output_type": "execute_result"
    }
   ],
   "source": [
    "random.sample(poetry_lines, 8)"
   ]
  },
  {
   "cell_type": "markdown",
   "id": "b1b6e658",
   "metadata": {},
   "source": [
    "Allison Parrish stored these lines of poetry in JSON format using 's' as the key with the lines of poetry, and 'gid' as the key containing the Project Gutenberg ID of the file which allows us to look up the title of the book of poetry and the author."
   ]
  },
  {
   "cell_type": "markdown",
   "id": "9db9801c",
   "metadata": {},
   "source": [
    "Markov Chain Text Generation:\n",
    "\n",
    "    In order to generate a poem, we will use Markov chain text generation which uses statistical information on word co-occurrence based on the source text we are providing. In this case, this model will be built upon the three million lines of poetry stored in poetry_lines."
   ]
  },
  {
   "cell_type": "markdown",
   "id": "c74d9633",
   "metadata": {},
   "source": [
    "In Python, we will use the Markovify library in order to build and generate from Markov chain models.\n",
    "Install with:"
   ]
  },
  {
   "cell_type": "code",
   "execution_count": 5,
   "id": "ddedaf2d",
   "metadata": {},
   "outputs": [
    {
     "name": "stdout",
     "output_type": "stream",
     "text": [
      "Requirement already satisfied: markovify in c:\\users\\18586\\anaconda3\\lib\\site-packages (0.9.4)\n",
      "Requirement already satisfied: unidecode in c:\\users\\18586\\anaconda3\\lib\\site-packages (from markovify) (1.2.0)\n"
     ]
    }
   ],
   "source": [
    "!pip install markovify"
   ]
  },
  {
   "cell_type": "markdown",
   "id": "f60243c9",
   "metadata": {},
   "source": [
    "Import it:"
   ]
  },
  {
   "cell_type": "code",
   "execution_count": 6,
   "id": "17737304",
   "metadata": {},
   "outputs": [],
   "source": [
    "import markovify"
   ]
  },
  {
   "cell_type": "markdown",
   "id": "e5eb5ea6",
   "metadata": {},
   "source": [
    "We will use a Markov chain to generate new lines of poetry from the Gutenberg Poetry Corpus deisgned by Allison Parrish. \n",
    "Since Markkovify requires text to be passed in as a string, we then create a large string with a sample of the poetry lines separated buy new lines:"
   ]
  },
  {
   "cell_type": "code",
   "execution_count": 7,
   "id": "734f0925",
   "metadata": {},
   "outputs": [],
   "source": [
    "big_poem = \"\\n\".join([line['s'] for line in random.sample(poetry_lines, 250000)])"
   ]
  },
  {
   "cell_type": "markdown",
   "id": "9a54b920",
   "metadata": {},
   "source": [
    "The sample can be of any size, but larger samples may take longer to run.\n",
    "\n",
    "Build the model:"
   ]
  },
  {
   "cell_type": "code",
   "execution_count": 8,
   "id": "127c248b",
   "metadata": {},
   "outputs": [],
   "source": [
    "model = markovify.NewlineText(big_poem)"
   ]
  },
  {
   "cell_type": "markdown",
   "id": "aa7eaa60",
   "metadata": {},
   "source": [
    "Then generate some lines:"
   ]
  },
  {
   "cell_type": "code",
   "execution_count": 9,
   "id": "38a0d7fc",
   "metadata": {},
   "outputs": [
    {
     "name": "stdout",
     "output_type": "stream",
     "text": [
      "To loose the rein,\n",
      "Of prisons where they affirm that they forget, so let them perish,\n",
      "To purchase his own cross.\n",
      "Ere they closed their eyes shall see them riding down the curtain.\n",
      "Then do I delay my mother's knee. Was I offered in that sole\n",
      "The sky and star,\n",
      "Who is my confidence,\n",
      "this last of the government to double all its throb intense\n",
      "waiting for one should him wrong.\n",
      "She, proudly, thinning in the vast love, and her husband entered.\n",
      "Which showed thee the\n",
      "Through the roof rattles with the Indian Government, always keen to please,\n",
      "Though I own the kindness done to much nye were.\n",
      "Precise in dealing, foes to you, Father Malloy,\n"
     ]
    }
   ],
   "source": [
    "for i in range(14):\n",
    "    print(model.make_sentence())"
   ]
  },
  {
   "cell_type": "markdown",
   "id": "257f9f2d",
   "metadata": {},
   "source": [
    "We can further create a poem about a specific subject by filtering the poetry lines for lines contianing a specific word. For example, we can find each line which contains the word \"god\" and do so using a regular expression that finds the string \"god\" between teo word boundaries, without respect to case:"
   ]
  },
  {
   "cell_type": "code",
   "execution_count": 12,
   "id": "951762be",
   "metadata": {},
   "outputs": [
    {
     "data": {
      "text/plain": [
       "28266"
      ]
     },
     "execution_count": 12,
     "metadata": {},
     "output_type": "execute_result"
    }
   ],
   "source": [
    "import re\n",
    "god_lines = [line['s'] for line in poetry_lines if re.search(r'\\bgod\\b', line['s'], re.I)]\n",
    "len(god_lines)"
   ]
  },
  {
   "cell_type": "markdown",
   "id": "a06566a8",
   "metadata": {},
   "source": [
    "Using these lines containing the word \"god\" at least once, we can then train another Markov Chain Model to create a poem seemingly focused on this subject."
   ]
  },
  {
   "cell_type": "code",
   "execution_count": 19,
   "id": "c79e43f6",
   "metadata": {},
   "outputs": [],
   "source": [
    "god_big_poem = \"\\n\".join([line['s'] for line in random.sample(poetry_lines, 28000)])"
   ]
  },
  {
   "cell_type": "markdown",
   "id": "4a80ebff",
   "metadata": {},
   "source": [
    "Build the model:"
   ]
  },
  {
   "cell_type": "code",
   "execution_count": 20,
   "id": "a8fce0e8",
   "metadata": {},
   "outputs": [],
   "source": [
    "god_model = markovify.NewlineText(god_big_poem)"
   ]
  },
  {
   "cell_type": "markdown",
   "id": "1779044b",
   "metadata": {},
   "source": [
    "Generate some lines of poetry:"
   ]
  },
  {
   "cell_type": "code",
   "execution_count": 21,
   "id": "5a50454f",
   "metadata": {},
   "outputs": [
    {
     "name": "stdout",
     "output_type": "stream",
     "text": [
      "Lurks in each plan to guide my fighting arm.\n",
      "Right, law, and industry gave way to Beth'lem and as the angels adore,\n",
      "illustration of the mouth, fatigued by the clear ideas acquired by our loss we may not come to the widowed diadem promoted\n",
      "Which shall the Lover and his kinsmen, in a whirlwind: all\n",
      "Siegfried Sassoon is an authentic document.\n",
      "To come forth and see.\n",
      "The harpies are not here to sleep;\n",
      "To wit, a relation from that cheek wherewith he is sleeping in their fall receives:\n",
      "In the very soul\n",
      "and on the hill;\n",
      "As dry as the badde,\n",
      "And sat and guided with nice care the helm, the rowers on the desert sand.\n",
      "I read the starry Heaven:\n",
      "On Sunday to church you go, each with her veil conceals the coming throng?--a singular sight,\n"
     ]
    }
   ],
   "source": [
    "for i in range(14):\n",
    "    print(god_model.make_sentence())"
   ]
  },
  {
   "cell_type": "code",
   "execution_count": null,
   "id": "591bad1d",
   "metadata": {},
   "outputs": [],
   "source": []
  }
 ],
 "metadata": {
  "kernelspec": {
   "display_name": "Python 3 (ipykernel)",
   "language": "python",
   "name": "python3"
  },
  "language_info": {
   "codemirror_mode": {
    "name": "ipython",
    "version": 3
   },
   "file_extension": ".py",
   "mimetype": "text/x-python",
   "name": "python",
   "nbconvert_exporter": "python",
   "pygments_lexer": "ipython3",
   "version": "3.9.12"
  }
 },
 "nbformat": 4,
 "nbformat_minor": 5
}
