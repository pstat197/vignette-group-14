{
 "cells": [
  {
   "cell_type": "code",
   "execution_count": 9,
   "id": "639cfa6c",
   "metadata": {},
   "outputs": [
    {
     "name": "stdout",
     "output_type": "stream",
     "text": [
      "[WinError 3] The system cannot find the path specified: '\\\\Desktop\\\\PSTAT197A\\\\vignette-group-14'\n",
      "C:\\Users\\18586\n"
     ]
    }
   ],
   "source": [
    "cd /Desktop/PSTAT197A/vignette-group-14"
   ]
  },
  {
   "cell_type": "code",
   "execution_count": 6,
   "id": "f02bfcd6",
   "metadata": {},
   "outputs": [
    {
     "ename": "FileNotFoundError",
     "evalue": "[Errno 2] No such file or directory: 'poetry.csv'",
     "output_type": "error",
     "traceback": [
      "\u001b[1;31m---------------------------------------------------------------------------\u001b[0m",
      "\u001b[1;31mFileNotFoundError\u001b[0m                         Traceback (most recent call last)",
      "Input \u001b[1;32mIn [6]\u001b[0m, in \u001b[0;36m<cell line: 17>\u001b[1;34m()\u001b[0m\n\u001b[0;32m     14\u001b[0m dict1 \u001b[38;5;241m=\u001b[39m {}\n\u001b[0;32m     16\u001b[0m \u001b[38;5;66;03m# creating dictionary\u001b[39;00m\n\u001b[1;32m---> 17\u001b[0m \u001b[38;5;28;01mwith\u001b[39;00m \u001b[38;5;28;43mopen\u001b[39;49m\u001b[43m(\u001b[49m\u001b[43mfilename\u001b[49m\u001b[43m)\u001b[49m \u001b[38;5;28;01mas\u001b[39;00m fh:\n\u001b[0;32m     19\u001b[0m     \u001b[38;5;28;01mfor\u001b[39;00m line \u001b[38;5;129;01min\u001b[39;00m fh:\n\u001b[0;32m     20\u001b[0m  \n\u001b[0;32m     21\u001b[0m         \u001b[38;5;66;03m# reads each line and trims of extra the spaces\u001b[39;00m\n\u001b[0;32m     22\u001b[0m         \u001b[38;5;66;03m# and gives only the valid words\u001b[39;00m\n\u001b[0;32m     23\u001b[0m         command, description \u001b[38;5;241m=\u001b[39m line\u001b[38;5;241m.\u001b[39mstrip()\u001b[38;5;241m.\u001b[39msplit(\u001b[38;5;28;01mNone\u001b[39;00m, \u001b[38;5;241m1\u001b[39m)\n",
      "\u001b[1;31mFileNotFoundError\u001b[0m: [Errno 2] No such file or directory: 'poetry.csv'"
     ]
    }
   ],
   "source": [
    "# Python program to convert text\n",
    "# file to JSON\n",
    " \n",
    " \n",
    "import json\n",
    " \n",
    " \n",
    "# the file to be converted to\n",
    "# json format\n",
    "filename = 'data/poetry.csv'\n",
    " \n",
    "# dictionary where the lines from\n",
    "# text will be stored\n",
    "dict1 = {}\n",
    " \n",
    "# creating dictionary\n",
    "with open(filename) as fh:\n",
    " \n",
    "    for line in fh:\n",
    " \n",
    "        # reads each line and trims of extra the spaces\n",
    "        # and gives only the valid words\n",
    "        command, description = line.strip().split(None, 1)\n",
    " \n",
    "        dict1[command] = description.strip()\n",
    " \n",
    "# creating json file\n",
    "# the JSON file is named as test1\n",
    "out_file = open(\"test1.json\", \"w\")\n",
    "json.dump(dict1, out_file, indent = 4, sort_keys = False)\n",
    "out_file.close()"
   ]
  }
 ],
 "metadata": {
  "kernelspec": {
   "display_name": "Python 3 (ipykernel)",
   "language": "python",
   "name": "python3"
  },
  "language_info": {
   "codemirror_mode": {
    "name": "ipython",
    "version": 3
   },
   "file_extension": ".py",
   "mimetype": "text/x-python",
   "name": "python",
   "nbconvert_exporter": "python",
   "pygments_lexer": "ipython3",
   "version": "3.9.12"
  }
 },
 "nbformat": 4,
 "nbformat_minor": 5
}
